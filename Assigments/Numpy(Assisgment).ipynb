{
  "nbformat": 4,
  "nbformat_minor": 0,
  "metadata": {
    "colab": {
      "provenance": []
    },
    "kernelspec": {
      "name": "python3",
      "display_name": "Python 3"
    },
    "language_info": {
      "name": "python"
    }
  },
  "cells": [
    {
      "cell_type": "markdown",
      "source": [
        "1).How to Creating a 3x3 Identity Matrix with Float Data Type?\n",
        "\n",
        "Ans:-To create a 3x3 identity matrix with float data type in Python, use the numpy library.\n",
        "\n",
        "code:\n",
        "\n",
        "import numpy as np\n",
        "\n",
        "identity_matrix = np.identity(3, dtype=float)\n",
        "\n",
        "print(identity_matrix)"
      ],
      "metadata": {
        "id": "Yb-JOWiTrONv"
      }
    },
    {
      "cell_type": "markdown",
      "source": [],
      "metadata": {
        "id": "ab-rPPTosMQe"
      }
    },
    {
      "cell_type": "code",
      "source": [
        "#2). Create a 1D Array with Random Values between 0 and 1.\n",
        "\n",
        "import numpy as np\n",
        "a = np.random.rand(10)\n",
        "print(a)"
      ],
      "metadata": {
        "colab": {
          "base_uri": "https://localhost:8080/"
        },
        "id": "YRzG9ofasbwR",
        "outputId": "8f4faef3-8f2d-4690-95aa-1736743dcadb"
      },
      "execution_count": 2,
      "outputs": [
        {
          "output_type": "stream",
          "name": "stdout",
          "text": [
            "[0.36164155 0.8249644  0.17889556 0.72717841 0.95484195 0.74111773\n",
            " 0.65409915 0.32564741 0.48105495 0.91998357]\n"
          ]
        }
      ]
    },
    {
      "cell_type": "code",
      "source": [
        "#3). Create a 2D Array with Random Integer Values.\n",
        "\n",
        "import numpy as np\n",
        "a = np.array([[0.255,0.052],[0.999,0.0662]])\n",
        "print(a)"
      ],
      "metadata": {
        "colab": {
          "base_uri": "https://localhost:8080/"
        },
        "id": "7xpNM00zsykQ",
        "outputId": "0372486e-8b52-4cf5-a761-b332ec8a06ee"
      },
      "execution_count": 6,
      "outputs": [
        {
          "output_type": "stream",
          "name": "stdout",
          "text": [
            "[[0.255  0.052 ]\n",
            " [0.999  0.0662]]\n"
          ]
        }
      ]
    },
    {
      "cell_type": "code",
      "source": [
        "#4).Creating an Array Using a Custom Function.\n",
        "\n",
        "import numpy as np\n",
        "\n",
        "def create_custom_array(size, value):\n",
        "    return np.full(size, value)\n",
        "\n",
        "array = create_custom_array((3, 3), [[25,100,1125],[215,410,801],[321,2152,225]])\n",
        "print(array)"
      ],
      "metadata": {
        "colab": {
          "base_uri": "https://localhost:8080/"
        },
        "id": "wfrXhC89tzDE",
        "outputId": "ac5341f1-f514-4ca9-f89c-55fd263e91ec"
      },
      "execution_count": 24,
      "outputs": [
        {
          "output_type": "stream",
          "name": "stdout",
          "text": [
            "[[  25  100 1125]\n",
            " [ 215  410  801]\n",
            " [ 321 2152  225]]\n"
          ]
        }
      ]
    },
    {
      "cell_type": "code",
      "source": [
        "#5).Reshaping a 1D Array into a 2D Array\n",
        "\n",
        "import numpy as np\n",
        "\n",
        "one_d_array = np.array([1, 2, 3, 4, 5, 6])\n",
        "\n",
        "two_d_array = one_d_array.reshape((2, 3))\n",
        "\n",
        "print(two_d_array)\n"
      ],
      "metadata": {
        "colab": {
          "base_uri": "https://localhost:8080/"
        },
        "id": "OAQoZLKpwhia",
        "outputId": "931e4350-49a3-4323-fa48-2850b52cfc01"
      },
      "execution_count": 25,
      "outputs": [
        {
          "output_type": "stream",
          "name": "stdout",
          "text": [
            "[[1 2 3]\n",
            " [4 5 6]]\n"
          ]
        }
      ]
    },
    {
      "cell_type": "code",
      "source": [
        "#6).How to Creating a 3x3 Array of Ones?\n",
        "\n",
        "import numpy as np\n",
        "\n",
        "ones_array = np.ones([3, 3])\n",
        "\n",
        "print(ones_array)"
      ],
      "metadata": {
        "colab": {
          "base_uri": "https://localhost:8080/"
        },
        "id": "UDGfT2nbw4CS",
        "outputId": "0582f12e-a5f3-448e-b35f-3e47b7400a76"
      },
      "execution_count": 32,
      "outputs": [
        {
          "output_type": "stream",
          "name": "stdout",
          "text": [
            "[[1. 1. 1.]\n",
            " [1. 1. 1.]\n",
            " [1. 1. 1.]]\n"
          ]
        }
      ]
    },
    {
      "cell_type": "code",
      "source": [
        "#7).How to get the common items between two pythons NumPy?\n",
        "\n",
        "a = np. array ([1,2,3,2,3,4,3,4,5,6])\n",
        "b = np. array ([7,2,10,2,7,4,9,4,9,8])\n",
        "print(np.intersect1d(a,b))"
      ],
      "metadata": {
        "colab": {
          "base_uri": "https://localhost:8080/"
        },
        "id": "MvvcTLz3yKHT",
        "outputId": "6cc1cc2d-c5b0-4d60-f708-1ef77c1cb9e3"
      },
      "execution_count": 33,
      "outputs": [
        {
          "output_type": "stream",
          "name": "stdout",
          "text": [
            "[2 4]\n"
          ]
        }
      ]
    },
    {
      "cell_type": "code",
      "source": [
        "#8). From array a remove all items present in array b\n",
        "\n",
        "a = np. array ([1,2,3,4,5])\n",
        "b = np. array ([5,6,7,8,9])\n",
        "print(np.setdiff1d(a,b))"
      ],
      "metadata": {
        "colab": {
          "base_uri": "https://localhost:8080/"
        },
        "id": "HXW25wyjyfUO",
        "outputId": "4a3d3b06-a457-4766-b28e-9ca59f79f7f7"
      },
      "execution_count": 34,
      "outputs": [
        {
          "output_type": "stream",
          "name": "stdout",
          "text": [
            "[1 2 3 4]\n"
          ]
        }
      ]
    },
    {
      "cell_type": "code",
      "source": [
        "#9).Limit the number of items printed in python NumPy array a to a maximum of 6 elements.\n",
        "\n",
        "a = np.arange(15)\n",
        "np.set_printoptions(threshold=6)\n",
        "print(a)"
      ],
      "metadata": {
        "colab": {
          "base_uri": "https://localhost:8080/"
        },
        "id": "Htx1n1iYyuQA",
        "outputId": "6d558a96-8778-437c-b91d-fb4dfbf692de"
      },
      "execution_count": 35,
      "outputs": [
        {
          "output_type": "stream",
          "name": "stdout",
          "text": [
            "[ 0  1  2 ... 12 13 14]\n"
          ]
        }
      ]
    },
    {
      "cell_type": "code",
      "source": [
        "#10).Drop all nan values from a 1D NumPy array.\n",
        "\n",
        "#input : np.array([1,2,3,np.nan,5,6,7,np.nan])\n",
        "a = np.array([1,2,3,np.nan,5,6,7,np.nan])\n",
        "print(a[~np.isnan(a)])"
      ],
      "metadata": {
        "colab": {
          "base_uri": "https://localhost:8080/"
        },
        "id": "A1_77nHbzQY1",
        "outputId": "33c74e3b-22a9-4564-e66e-390aab072f8f"
      },
      "execution_count": 37,
      "outputs": [
        {
          "output_type": "stream",
          "name": "stdout",
          "text": [
            "[1. 2. 3. 5. 6. 7.]\n"
          ]
        }
      ]
    },
    {
      "cell_type": "code",
      "source": [
        "#11).Create a 1D NumPy array of the first 20 natural numbers and a 2D NumPy array of shape (4, 5) with values ranging from 1 to 20.\n",
        "\n",
        "a = np.arange(20)\n",
        "b = np.arange(1,21).reshape(4,5)\n",
        "print(a)\n",
        "print(b)"
      ],
      "metadata": {
        "colab": {
          "base_uri": "https://localhost:8080/"
        },
        "id": "6cmaIHYCz2uv",
        "outputId": "4080baff-c9ea-4a11-f652-f106c75d8723"
      },
      "execution_count": 38,
      "outputs": [
        {
          "output_type": "stream",
          "name": "stdout",
          "text": [
            "[ 0  1  2 ... 17 18 19]\n",
            "[[ 1  2  3  4  5]\n",
            " [ 6  7  8  9 10]\n",
            " [11 12 13 14 15]\n",
            " [16 17 18 19 20]]\n"
          ]
        }
      ]
    },
    {
      "cell_type": "code",
      "source": [
        "#12).Given a 3D NumPy array of shape (2, 3, 4), find its shape, size, number of dimensions, and data type. Change its data type to float64 and verify the change.\n",
        "\n",
        "import numpy as np\n",
        "\n",
        "# Create a 3D NumPy array of shape (2, 3, 4)\n",
        "array_3d = np.array([[[1, 2, 3, 4], [5, 6, 7, 8], [9, 10, 11, 12]],\n",
        "                     [[13, 14, 15, 16], [17, 18, 19, 20], [21, 22, 23, 24]]])\n",
        "\n",
        "print(array_3d)\n",
        "\n",
        "print(\"array shape is \",array_3d.shape)\n",
        "print(\"array size is\",array_3d.size)\n",
        "print(\"array dimension is\",array_3d.ndim)\n",
        "print(\"data type of array is\",array_3d.dtype)\n",
        "\n",
        "array_3d_float64 = array_3d.astype(np.float64)\n",
        "print(\"data type of array is\",array_3d_float64.dtype)"
      ],
      "metadata": {
        "colab": {
          "base_uri": "https://localhost:8080/"
        },
        "id": "32oQEalz0LYK",
        "outputId": "ed84fd63-9d96-4e83-c6e1-376236573e1d"
      },
      "execution_count": 52,
      "outputs": [
        {
          "output_type": "stream",
          "name": "stdout",
          "text": [
            "[[[ 1  2  3  4]\n",
            "  [ 5  6  7  8]\n",
            "  [ 9 10 11 12]]\n",
            "\n",
            " [[13 14 15 16]\n",
            "  [17 18 19 20]\n",
            "  [21 22 23 24]]]\n",
            "array shape is  (2, 3, 4)\n",
            "array size is 24\n",
            "array dimension is 3\n",
            "data type of array is int64\n",
            "data type of array is float64\n"
          ]
        }
      ]
    },
    {
      "cell_type": "code",
      "source": [
        "#13). Reshape a 1D array of 12 elements into a 3x4 2D array and then flatten it back into a 1D array using ravel (). Verify that the flattened array matches the original.\n",
        "\n",
        "import numpy as np\n",
        "\n",
        "original_array = np.arange(12)\n",
        "\n",
        "reshaped_array = original_array.reshape((3, 4))\n",
        "\n",
        "flattened_array = reshaped_array.ravel()\n",
        "\n",
        "arrays_match = np.array_equal(original_array, flattened_array)\n",
        "\n",
        "print(\"Original array:\", original_array)\n",
        "print(\"Reshaped array:\\n\", reshaped_array)\n",
        "print(\"Flattened array:\", flattened_array)\n",
        "print(\"Arrays match:\", arrays_match)\n"
      ],
      "metadata": {
        "colab": {
          "base_uri": "https://localhost:8080/"
        },
        "id": "AzsLq1WP2rXE",
        "outputId": "750fd0ab-f5e4-4e17-c604-c4f4802dd8ff"
      },
      "execution_count": 54,
      "outputs": [
        {
          "output_type": "stream",
          "name": "stdout",
          "text": [
            "Original array: [ 0  1  2 ...  9 10 11]\n",
            "Reshaped array:\n",
            " [[ 0  1  2  3]\n",
            " [ 4  5  6  7]\n",
            " [ 8  9 10 11]]\n",
            "Flattened array: [ 0  1  2 ...  9 10 11]\n",
            "Arrays match: True\n"
          ]
        }
      ]
    },
    {
      "cell_type": "code",
      "source": [
        "#14).Given two arrays, a = np. array ([1, 2, 3]) and b = np. array ([4, 5, 6]), perform element-wise addition, subtraction, multiplication, and division. Explain the behavior when dividing by zero.\n",
        "\n",
        "import numpy as np\n",
        "\n",
        "a = np.array([1, 2, 3])\n",
        "b = np.array([4, 5, 6])\n",
        "\n",
        "addition = a + b\n",
        "subtraction = a - b\n",
        "multiplication = a * b\n",
        "division = a / b\n",
        "\n",
        "print(\"Addition:\", addition)\n",
        "print(\"Subtraction:\", subtraction)\n",
        "print(\"Multiplication:\", multiplication)\n",
        "print(\"Division:\", division)\n"
      ],
      "metadata": {
        "colab": {
          "base_uri": "https://localhost:8080/"
        },
        "id": "hGT6Vjs322yr",
        "outputId": "19bcb629-d9c4-4e3d-9cde-b8c7f8eb4cb1"
      },
      "execution_count": 55,
      "outputs": [
        {
          "output_type": "stream",
          "name": "stdout",
          "text": [
            "Addition: [5 7 9]\n",
            "Subtraction: [-3 -3 -3]\n",
            "Multiplication: [ 4 10 18]\n",
            "Division: [0.25 0.4  0.5 ]\n"
          ]
        }
      ]
    },
    {
      "cell_type": "code",
      "source": [
        "#15).Create a 2D array of shape (3, 1) and a 1D array of length 3. Perform element-wise addition using broadcasting. Explain how broadcasting rules apply in this scenario.\n",
        "\n",
        "import numpy as np\n",
        "\n",
        "array_2d = np.array([[1], [2], [3]])\n",
        "\n",
        "array_1d = np.array([4, 5, 6])\n",
        "\n",
        "result = array_2d + array_1d\n",
        "\n",
        "print(\"2D Array:\\n\", array_2d)\n",
        "print(\"1D Array:\", array_1d)\n",
        "print(\"Result of Broadcasting:\\n\", result)\n"
      ],
      "metadata": {
        "colab": {
          "base_uri": "https://localhost:8080/"
        },
        "id": "qbgwWmyg3TnB",
        "outputId": "3d839076-2562-4d83-f124-aedc9ed1f31b"
      },
      "execution_count": 56,
      "outputs": [
        {
          "output_type": "stream",
          "name": "stdout",
          "text": [
            "2D Array:\n",
            " [[1]\n",
            " [2]\n",
            " [3]]\n",
            "1D Array: [4 5 6]\n",
            "Result of Broadcasting:\n",
            " [[5 6 7]\n",
            " [6 7 8]\n",
            " [7 8 9]]\n"
          ]
        }
      ]
    },
    {
      "cell_type": "code",
      "source": [
        "#16).Generate a random 2D array of integers between 0 and 10. Use conditional operators to create a Boolean mask identifying elements greater than 5. Replace all elements greater than 5 with the value 5.\n",
        "\n",
        "import numpy as np\n",
        "\n",
        "random_array = np.random.randint(0, 11, size=(3, 4))\n",
        "print(\"Original array:\\n\", random_array)\n",
        "\n",
        "mask = random_array > 5\n",
        "print(\"Boolean mask:\\n\", mask)\n",
        "\n",
        "random_array[mask] = 5\n",
        "print(\"Modified array:\\n\", random_array)\n"
      ],
      "metadata": {
        "colab": {
          "base_uri": "https://localhost:8080/"
        },
        "id": "Nulmc8Sr3mCK",
        "outputId": "723d3a80-74d4-419a-aba1-c54fd5975400"
      },
      "execution_count": 57,
      "outputs": [
        {
          "output_type": "stream",
          "name": "stdout",
          "text": [
            "Original array:\n",
            " [[ 5 10  1  6]\n",
            " [ 9  1 10 10]\n",
            " [ 1  6  9  9]]\n",
            "Boolean mask:\n",
            " [[False  True False  True]\n",
            " [ True False  True  True]\n",
            " [False  True  True  True]]\n",
            "Modified array:\n",
            " [[5 5 1 5]\n",
            " [5 1 5 5]\n",
            " [1 5 5 5]]\n"
          ]
        }
      ]
    },
    {
      "cell_type": "code",
      "source": [
        "#17). Given a 4x4 array of random integers, use indexing and slicing to extract: The entire second row The last column The subarray consisting of the first two rows and first two columns.\n",
        "\n",
        "import numpy as np\n",
        "\n",
        "array_4x4 = np.random.randint(0, 11, size=(4, 4))\n",
        "print(\"Original array:\\n\", array_4x4)\n",
        "\n",
        "second_row = array_4x4[1, :]\n",
        "print(\"\\nEntire second row:\", second_row)\n",
        "\n",
        "last_column = array_4x4[:, -1]\n",
        "print(\"\\nLast column:\", last_column)\n",
        "\n",
        "subarray = array_4x4[:2, :2]\n",
        "print(\"\\nSubarray (first two rows and first two columns):\\n\", subarray)\n"
      ],
      "metadata": {
        "colab": {
          "base_uri": "https://localhost:8080/"
        },
        "id": "PYP2CT3M4Xag",
        "outputId": "e8c6cd99-1006-44e8-8407-5b4b80d1530f"
      },
      "execution_count": 58,
      "outputs": [
        {
          "output_type": "stream",
          "name": "stdout",
          "text": [
            "Original array:\n",
            " [[ 8  5  9 10]\n",
            " [ 7  7  0 10]\n",
            " [ 5  7  7  9]\n",
            " [ 9  3  5  2]]\n",
            "\n",
            "Entire second row: [ 7  7  0 10]\n",
            "\n",
            "Last column: [10 10  9  2]\n",
            "\n",
            "Subarray (first two rows and first two columns):\n",
            " [[8 5]\n",
            " [7 7]]\n"
          ]
        }
      ]
    },
    {
      "cell_type": "markdown",
      "source": [
        "18).Describe a practical example where NumPy can be used in EDA,\n",
        "AI, ML, and DL, and implement a NumPy solution for a simple task in each\n",
        "area.\n",
        "\n",
        "Ans:- NumPy can be used in Exploratory Data Analysis (EDA) for calculating statistics, in Artificial Intelligence (AI) for normalizing image pixels, in Machine Learning (ML) for data splitting, and in Deep Learning (DL) for initializing neural network weights. It enhances workflows across these areas with efficient computations."
      ],
      "metadata": {
        "id": "VG2ks0D74-W5"
      }
    },
    {
      "cell_type": "code",
      "source": [
        "#19).Create a random 4x4 matrix and use NumPy to compute its eigenvalues and eigenvectors. Verify the eigenvalues by reconstructing the matrix.\n",
        "\n",
        "import numpy as np\n",
        "matrix = np.random.rand(4, 4)\n",
        "eigenvalues, eigenvectors = np.linalg.eig(matrix)\n",
        "print(\"Eigenvalues:\")\n",
        "print(eigenvalues)\n",
        "print(\"\\nEigenvectors:\")\n",
        "print(eigenvectors)"
      ],
      "metadata": {
        "colab": {
          "base_uri": "https://localhost:8080/"
        },
        "id": "HQh1AVmS47PM",
        "outputId": "cfaee170-e6e3-4673-cd36-40f78e821757"
      },
      "execution_count": 59,
      "outputs": [
        {
          "output_type": "stream",
          "name": "stdout",
          "text": [
            "Eigenvalues:\n",
            "[ 1.2993892  -0.67286159 -0.13046633  0.06301719]\n",
            "\n",
            "Eigenvectors:\n",
            "[[-0.61950815 -0.64210989 -0.24399193 -0.06714275]\n",
            " [-0.26190604 -0.1282388  -0.62196757 -0.69452044]\n",
            " [-0.49351514  0.61119211  0.6696992   0.10029317]\n",
            " [-0.55141426  0.44462783  0.32423334  0.70927745]]\n"
          ]
        }
      ]
    },
    {
      "cell_type": "code",
      "source": [
        "#20).Create a 1D array of 27 elements and reshape it into a 3x3x3 3D array. Flatten it back into a 1D array and compare the flattened array with the original.\n",
        "\n",
        "import numpy as np\n",
        "\n",
        "original_array = np.arange(27)\n",
        "\n",
        "reshaped_array = original_array.reshape((3, 3, 3))\n",
        "\n",
        "flattened_array = reshaped_array.ravel()\n",
        "\n",
        "arrays_match = np.array_equal(original_array, flattened_array)\n",
        "\n",
        "print(\"Original array:\\n\", original_array)\n",
        "print(\"\\nReshaped array:\\n\", reshaped_array)\n",
        "print(\"\\nFlattened array:\\n\", flattened_array)\n",
        "print(\"\\nArrays match:\", arrays_match)"
      ],
      "metadata": {
        "colab": {
          "base_uri": "https://localhost:8080/"
        },
        "id": "frrqJTG85jD5",
        "outputId": "a4cac508-573d-4bae-c811-46ba35794308"
      },
      "execution_count": 60,
      "outputs": [
        {
          "output_type": "stream",
          "name": "stdout",
          "text": [
            "Original array:\n",
            " [ 0  1  2 ... 24 25 26]\n",
            "\n",
            "Reshaped array:\n",
            " [[[ 0  1  2]\n",
            "  [ 3  4  5]\n",
            "  [ 6  7  8]]\n",
            "\n",
            " [[ 9 10 11]\n",
            "  [12 13 14]\n",
            "  [15 16 17]]\n",
            "\n",
            " [[18 19 20]\n",
            "  [21 22 23]\n",
            "  [24 25 26]]]\n",
            "\n",
            "Flattened array:\n",
            " [ 0  1  2 ... 24 25 26]\n",
            "\n",
            "Arrays match: True\n"
          ]
        }
      ]
    },
    {
      "cell_type": "code",
      "source": [
        "#21).Perform matrix multiplication of two 2D arrays using np.dot () and @. Compare the results and performance of both methods using a large dataset.\n",
        "\n",
        "import numpy as np\n",
        "import time\n",
        "\n",
        "A = np.random.rand(1000, 1000)\n",
        "B = np.random.rand(1000, 1000)\n",
        "\n",
        "start_time = time.time()\n",
        "result_dot = np.dot(A, B)\n",
        "time_dot = time.time() - start_time\n",
        "\n",
        "start_time = time.time()\n",
        "result_at = A @ B\n",
        "time_at = time.time() - start_time\n",
        "\n",
        "results_match = np.array_equal(result_dot, result_at)\n",
        "\n",
        "print(f\"Results match: {results_match}\")\n",
        "print(f\"Time taken with np.dot(): {time_dot:.6f} seconds\")\n",
        "print(f\"Time taken with @ operator: {time_at:.6f} seconds\")\n"
      ],
      "metadata": {
        "colab": {
          "base_uri": "https://localhost:8080/"
        },
        "id": "BYh6S9db57Yo",
        "outputId": "0fe4ea12-be47-4596-ffd0-afe8c86ebcc9"
      },
      "execution_count": 61,
      "outputs": [
        {
          "output_type": "stream",
          "name": "stdout",
          "text": [
            "Results match: True\n",
            "Time taken with np.dot(): 0.066812 seconds\n",
            "Time taken with @ operator: 0.065318 seconds\n"
          ]
        }
      ]
    },
    {
      "cell_type": "code",
      "source": [
        "#22).Create a 3D array of shape (2, 1, 4) and a 2D array of shape (4, 1). Perform an element-wise operation using broadcasting and explain the result. Use np. new axis to achieve the same result without broadcasting.\n",
        "\n",
        "import numpy as np\n",
        "\n",
        "# Create a 3D array of shape (2, 1, 4)\n",
        "array_3d = np.array([[[1, 2, 3, 4]], [[5, 6, 7, 8]]])\n",
        "\n",
        "# Create a 2D array of shape (4, 1)\n",
        "array_2d = np.array([[1], [2], [3], [4]])\n",
        "\n",
        "# Perform element-wise addition using broadcasting\n",
        "result_broadcast = array_3d + array_2d\n",
        "\n",
        "print(\"3D Array:\\n\", array_3d)\n",
        "print(\"2D Array:\\n\", array_2d)\n",
        "print(\"Result using broadcasting:\\n\", result_broadcast)\n"
      ],
      "metadata": {
        "colab": {
          "base_uri": "https://localhost:8080/"
        },
        "id": "Z3Px0mE36lPR",
        "outputId": "503abc1e-37f3-4f1d-c806-eca727225f83"
      },
      "execution_count": 62,
      "outputs": [
        {
          "output_type": "stream",
          "name": "stdout",
          "text": [
            "3D Array:\n",
            " [[[1 2 3 4]]\n",
            "\n",
            " [[5 6 7 8]]]\n",
            "2D Array:\n",
            " [[1]\n",
            " [2]\n",
            " [3]\n",
            " [4]]\n",
            "Result using broadcasting:\n",
            " [[[ 2  3  4  5]\n",
            "  [ 3  4  5  6]\n",
            "  [ 4  5  6  7]\n",
            "  [ 5  6  7  8]]\n",
            "\n",
            " [[ 6  7  8  9]\n",
            "  [ 7  8  9 10]\n",
            "  [ 8  9 10 11]\n",
            "  [ 9 10 11 12]]]\n"
          ]
        }
      ]
    },
    {
      "cell_type": "code",
      "source": [
        "#23).Generate a 2D array of random floats between 0 and 1. Use conditional operators to create a Boolean mask for values less than 0.5. Replace these values with their squares and leave the rest unchanged.\n",
        "\n",
        "import numpy as np\n",
        "\n",
        "array_2d = np.random.rand(4, 5)  # Example shape (4, 5)\n",
        "print(\"Original array:\\n\", array_2d)\n",
        "\n",
        "mask = array_2d < 0.5\n",
        "print(\"\\nBoolean mask:\\n\", mask)\n",
        "\n",
        "array_2d[mask] = np.square(array_2d[mask])\n",
        "print(\"\\nModified array:\\n\", array_2d)"
      ],
      "metadata": {
        "colab": {
          "base_uri": "https://localhost:8080/"
        },
        "id": "x6I8Vilq611j",
        "outputId": "027ba9a8-e7ea-4c48-afa6-2b1dcf6a9b82"
      },
      "execution_count": 65,
      "outputs": [
        {
          "output_type": "stream",
          "name": "stdout",
          "text": [
            "Original array:\n",
            " [[0.37162548 0.4256248  0.16407944 0.61886687 0.54043608]\n",
            " [0.05192785 0.89060694 0.07846875 0.59540302 0.98650208]\n",
            " [0.81786338 0.50139079 0.11696743 0.30434755 0.85161511]\n",
            " [0.2854375  0.38049468 0.43417048 0.76901875 0.87726373]]\n",
            "\n",
            "Boolean mask:\n",
            " [[ True  True  True False False]\n",
            " [ True False  True False False]\n",
            " [False False  True  True False]\n",
            " [ True  True  True False False]]\n",
            "\n",
            "Modified array:\n",
            " [[0.1381055  0.18115647 0.02692206 0.61886687 0.54043608]\n",
            " [0.0026965  0.89060694 0.00615734 0.59540302 0.98650208]\n",
            " [0.81786338 0.50139079 0.01368138 0.09262743 0.85161511]\n",
            " [0.08147457 0.1447762  0.18850401 0.76901875 0.87726373]]\n"
          ]
        }
      ]
    },
    {
      "cell_type": "code",
      "source": [
        "#25).Given a 5x5 array of sequential integers, use slicing to: Extract the diagonal elements Replace the elements of the middle row with zeros Flip the array vertically and horizontally\n",
        "\n",
        "import numpy as np\n",
        "\n",
        "array_5x5 = np.arange(1, 26).reshape((5, 5))\n",
        "print(\"Original array:\\n\", array_5x5)\n",
        "\n",
        "diagonal_elements = np.diag(array_5x5)\n",
        "print(\"\\nDiagonal elements:\", diagonal_elements)\n",
        "\n",
        "array_5x5[2, :] = 0\n",
        "print(\"\\nArray with middle row replaced with zeros:\\n\", array_5x5)\n",
        "\n",
        "flipped_array = np.flip(array_5x5)\n",
        "print(\"\\nFlipped array:\\n\", flipped_array)\n"
      ],
      "metadata": {
        "colab": {
          "base_uri": "https://localhost:8080/"
        },
        "id": "bhIn9HiB7WjR",
        "outputId": "6c5d4fbf-c38b-45df-ea51-54082af4d986"
      },
      "execution_count": 67,
      "outputs": [
        {
          "output_type": "stream",
          "name": "stdout",
          "text": [
            "Original array:\n",
            " [[ 1  2  3  4  5]\n",
            " [ 6  7  8  9 10]\n",
            " [11 12 13 14 15]\n",
            " [16 17 18 19 20]\n",
            " [21 22 23 24 25]]\n",
            "\n",
            "Diagonal elements: [ 1  7 13 19 25]\n",
            "\n",
            "Array with middle row replaced with zeros:\n",
            " [[ 1  2  3  4  5]\n",
            " [ 6  7  8  9 10]\n",
            " [ 0  0  0  0  0]\n",
            " [16 17 18 19 20]\n",
            " [21 22 23 24 25]]\n",
            "\n",
            "Flipped array:\n",
            " [[25 24 23 22 21]\n",
            " [20 19 18 17 16]\n",
            " [ 0  0  0  0  0]\n",
            " [10  9  8  7  6]\n",
            " [ 5  4  3  2  1]]\n"
          ]
        }
      ]
    },
    {
      "cell_type": "code",
      "source": [
        "#25).Create a 4D array of shape (2, 3, 4, 5) with random integers. Use advanced slicing to extract a subarray and compute the mean along a specified axis.\n",
        "\n",
        "import numpy as np\n",
        "\n",
        "array_4d = np.random.randint(0, 11, size=(2, 3, 4, 5))\n",
        "print(\"Original 4D array:\\n\", array_4d)\n",
        "\n",
        "subarray = array_4d[0, :, :, :]\n",
        "print(\"\\nExtracted subarray:\\n\", subarray)\n",
        "\n",
        "mean_subarray = np.mean(subarray, axis=1)\n",
        "print(\"\\nMean along the second axis:\\n\", mean_subarray)"
      ],
      "metadata": {
        "colab": {
          "base_uri": "https://localhost:8080/"
        },
        "id": "2ccHVEHy7qp3",
        "outputId": "b71a65bb-4bb6-4082-d8ed-71b2a35c9d76"
      },
      "execution_count": 68,
      "outputs": [
        {
          "output_type": "stream",
          "name": "stdout",
          "text": [
            "Original 4D array:\n",
            " [[[[ 9  7  4  0  9]\n",
            "   [ 2  6  1  0  1]\n",
            "   [ 3  2  7  0  2]\n",
            "   [10  1 10  7  9]]\n",
            "\n",
            "  [[ 5  8  9  1  8]\n",
            "   [ 5  3  2  5  9]\n",
            "   [ 3 10  6 10 10]\n",
            "   [ 4 10  1  6  0]]\n",
            "\n",
            "  [[ 0  7  5  8  5]\n",
            "   [ 8  3  6  2  4]\n",
            "   [ 1  8  2  2  5]\n",
            "   [ 7  8  1  6  5]]]\n",
            "\n",
            "\n",
            " [[[ 5  4  8  4  7]\n",
            "   [10  0  6  1  5]\n",
            "   [ 1  4  4  2 10]\n",
            "   [ 2  7  8  5  3]]\n",
            "\n",
            "  [[ 1 10  7  9  5]\n",
            "   [ 4  7  2 10  5]\n",
            "   [ 6  7  9  4  6]\n",
            "   [ 7  4  8  0  4]]\n",
            "\n",
            "  [[ 8 10 10  8  2]\n",
            "   [ 0 10  6  3  1]\n",
            "   [ 6  2  7  8  9]\n",
            "   [ 3  6  3  3  4]]]]\n",
            "\n",
            "Extracted subarray:\n",
            " [[[ 9  7  4  0  9]\n",
            "  [ 2  6  1  0  1]\n",
            "  [ 3  2  7  0  2]\n",
            "  [10  1 10  7  9]]\n",
            "\n",
            " [[ 5  8  9  1  8]\n",
            "  [ 5  3  2  5  9]\n",
            "  [ 3 10  6 10 10]\n",
            "  [ 4 10  1  6  0]]\n",
            "\n",
            " [[ 0  7  5  8  5]\n",
            "  [ 8  3  6  2  4]\n",
            "  [ 1  8  2  2  5]\n",
            "  [ 7  8  1  6  5]]]\n",
            "\n",
            "Mean along the second axis:\n",
            " [[6.   4.   5.5  1.75 5.25]\n",
            " [4.25 7.75 4.5  5.5  6.75]\n",
            " [4.   6.5  3.5  4.5  4.75]]\n"
          ]
        }
      ]
    },
    {
      "cell_type": "code",
      "source": [
        "#26)Given an array of shape (10, 20), reshape it to (20, 10) and (5, 40). Discuss the impact on the array's shape, size, and dimensionality.\n",
        "\n",
        "import numpy as np\n",
        "\n",
        "original_array = np.arange(200).reshape((10, 20))\n",
        "print(\"Original array shape:\", original_array.shape)\n",
        "\n",
        "reshaped_20_10 = original_array.reshape((20, 10))\n",
        "print(\"Reshaped (20, 10) array shape:\", reshaped_20_10.shape)\n",
        "\n",
        "reshaped_5_40 = original_array.reshape((5, 40))\n",
        "print(\"Reshaped (5, 40) array shape:\", reshaped_5_40.shape)\n"
      ],
      "metadata": {
        "colab": {
          "base_uri": "https://localhost:8080/"
        },
        "id": "MzxC-4xM76LE",
        "outputId": "a75e268c-1efd-4b4e-bdcc-d4480598991d"
      },
      "execution_count": 69,
      "outputs": [
        {
          "output_type": "stream",
          "name": "stdout",
          "text": [
            "Original array shape: (10, 20)\n",
            "Reshaped (20, 10) array shape: (20, 10)\n",
            "Reshaped (5, 40) array shape: (5, 40)\n"
          ]
        }
      ]
    },
    {
      "cell_type": "code",
      "source": [
        "#27).Generate a large 2D array and demonstrate the use of np. reshape () and unravel () to manipulate its shape for various linear algebra operations.\n",
        "\n",
        "\n",
        "import numpy as np\n",
        "\n",
        "# Generate a large 2D array (e.g., 100x100) with random integers between 0 and 10\n",
        "large_array = np.random.randint(0, 11, size=(100, 100))\n",
        "print(\"Original array shape:\", large_array.shape)\n",
        "\n",
        "# Reshape the array to (50, 200)\n",
        "reshaped_50_200 = large_array.reshape((50, 200))\n",
        "print(\"Reshaped (50, 200) array shape:\", reshaped_50_200.shape)\n",
        "\n",
        "# Reshape the array to (10, 1000)\n",
        "reshaped_10_1000 = large_array.reshape((10, 1000))\n",
        "print(\"Reshaped (10, 1000) array shape:\", reshaped_10_1000.shape)\n",
        "\n",
        "# Flatten the array using ravel()\n",
        "flattened_array = large_array.ravel()\n",
        "print(\"Flattened array shape:\", flattened_array.shape)\n",
        "\n",
        "# Perform matrix multiplication (e.g., A * A.T)\n",
        "result_matrix_multiplication = np.dot(reshaped_50_200, reshaped_50_200.T)\n",
        "print(\"Result of matrix multiplication shape:\", result_matrix_multiplication.shape)\n",
        "\n",
        "# Create a square submatrix for inversion (e.g., 10x10 from the original array)\n",
        "square_submatrix = large_array[:10, :10]\n",
        "inverse_matrix = np.linalg.inv(square_submatrix)\n",
        "print(\"Inverse matrix shape:\", inverse_matrix.shape)"
      ],
      "metadata": {
        "colab": {
          "base_uri": "https://localhost:8080/"
        },
        "id": "PzzoqYA28f86",
        "outputId": "e6f57c9b-b54e-434e-8b53-4881165f949b"
      },
      "execution_count": 71,
      "outputs": [
        {
          "output_type": "stream",
          "name": "stdout",
          "text": [
            "Original array shape: (100, 100)\n",
            "Reshaped (50, 200) array shape: (50, 200)\n",
            "Reshaped (10, 1000) array shape: (10, 1000)\n",
            "Flattened array shape: (10000,)\n",
            "Result of matrix multiplication shape: (50, 50)\n",
            "Inverse matrix shape: (10, 10)\n"
          ]
        }
      ]
    },
    {
      "cell_type": "code",
      "source": [
        "#28).Given a 6x6 matrix, use advanced indexing and slicing to extract the upper triangular part of the matrix and set the lower triangular part to zero. Verify the result.\n",
        "\n",
        "import numpy as np\n",
        "\n",
        "matrix = np.random.randint(1, 11, size=(6, 6))\n",
        "print(\"Original matrix:\\n\", matrix)\n",
        "\n",
        "upper_triangular = np.triu(matrix)\n",
        "print(\"\\nUpper triangular matrix:\\n\", upper_triangular)\n",
        "\n",
        "matrix[np.tril_indices(6, -1)] = 0\n",
        "print(\"\\nMatrix with lower triangular part set to zero:\\n\", matrix)\n",
        "\n",
        "assert np.array_equal(matrix, upper_triangular), \"The matrices do not match\"\n",
        "print(\"\\nVerification successful: The matrices match.\")"
      ],
      "metadata": {
        "colab": {
          "base_uri": "https://localhost:8080/"
        },
        "id": "UFvy3JON87HN",
        "outputId": "4790c675-c59e-4269-8f1f-ff921da68e13"
      },
      "execution_count": 72,
      "outputs": [
        {
          "output_type": "stream",
          "name": "stdout",
          "text": [
            "Original matrix:\n",
            " [[ 1 10  4 10  5  2]\n",
            " [ 6  1  4  9  9  9]\n",
            " [ 6  3  5  6  3  7]\n",
            " [ 4  4 10  3  8  6]\n",
            " [ 3  4  7  1  9  5]\n",
            " [ 1  2  1  1  9  3]]\n",
            "\n",
            "Upper triangular matrix:\n",
            " [[ 1 10  4 10  5  2]\n",
            " [ 0  1  4  9  9  9]\n",
            " [ 0  0  5  6  3  7]\n",
            " [ 0  0  0  3  8  6]\n",
            " [ 0  0  0  0  9  5]\n",
            " [ 0  0  0  0  0  3]]\n",
            "\n",
            "Matrix with lower triangular part set to zero:\n",
            " [[ 1 10  4 10  5  2]\n",
            " [ 0  1  4  9  9  9]\n",
            " [ 0  0  5  6  3  7]\n",
            " [ 0  0  0  3  8  6]\n",
            " [ 0  0  0  0  9  5]\n",
            " [ 0  0  0  0  0  3]]\n",
            "\n",
            "Verification successful: The matrices match.\n"
          ]
        }
      ]
    },
    {
      "cell_type": "code",
      "source": [],
      "metadata": {
        "id": "DfCG-kAP9Q2v"
      },
      "execution_count": null,
      "outputs": []
    }
  ]
}