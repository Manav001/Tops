{
  "nbformat": 4,
  "nbformat_minor": 0,
  "metadata": {
    "colab": {
      "provenance": []
    },
    "kernelspec": {
      "name": "python3",
      "display_name": "Python 3"
    },
    "language_info": {
      "name": "python"
    }
  },
  "cells": [
    {
      "cell_type": "markdown",
      "source": [
        "1).What are the types of Applications?\n",
        "\n",
        "Ans :- Applications come in all shapes and sizes, designed to make our lives easier, more fun, or more productive. From web apps like Google Docs to mobile apps like WhatsApp, and from desktop staples like Microsoft Office to gaming favorites like Fortnite, there's an app for everything. Whether it's managing business with enterprise software like SAP or learning new skills with educational apps like Duolingo, each type serves a unique purpose."
      ],
      "metadata": {
        "id": "meEE8-RSfeMd"
      }
    },
    {
      "cell_type": "markdown",
      "source": [
        "2).What is programing?\n",
        "\n",
        "Ans :- Programming is like teaching a computer to do what you want it to do. You write a set of instructions, called code, in a language the computer understands, like Python or Java. Through this process, you can create software, websites, games, and much more, enabling computers to perform tasks ranging from simple calculations to complex data processing. Think of it as giving a computer a detailed recipe to follow!"
      ],
      "metadata": {
        "id": "533nWWBagjXZ"
      }
    },
    {
      "cell_type": "markdown",
      "source": [
        "3).What is Python?\n",
        "\n",
        "Sure thing! Think of Python as a friendly language that lets you talk to your computer and tell it what to do. It's super easy to read and write, almost like English, which makes it perfect for beginners. You can use Python for all sorts of things like building websites, analyzing data, creating cool AI projects, or even automating boring tasks. It's kind of like having a Swiss Army knife for programming—versatile and handy for almost anything you can think of."
      ],
      "metadata": {
        "id": "gnOaUkmKhRh6"
      }
    },
    {
      "cell_type": "code",
      "source": [
        "# 4).Write a Python program to check if a number is positive, negative or zero.\n",
        "\n",
        "num = float(input(\"Enter a number: \"))\n",
        "if num > 0:\n",
        "   print(\"Positive number\")\n",
        "elif num == 0:\n",
        "   print(\"Zero\")\n",
        "else:\n",
        "   print(\"Negative number\")"
      ],
      "metadata": {
        "colab": {
          "base_uri": "https://localhost:8080/"
        },
        "id": "u6175orshv2O",
        "outputId": "eae5b8ae-8e81-4cfa-a1fc-e3e0e7490458"
      },
      "execution_count": null,
      "outputs": [
        {
          "output_type": "stream",
          "name": "stdout",
          "text": [
            "Enter a number: 25.23\n",
            "Positive number\n"
          ]
        }
      ]
    },
    {
      "cell_type": "code",
      "source": [
        "# 5).Write a Python program to get the Factorial number of given numbers.\n",
        "\n",
        "num = input(\"Enter a number: \")\n",
        "factorial = 1\n",
        "if int(num) >= 1:\n",
        "  for i in range (1,int(num)+1):\n",
        "    factorial = factorial * i\n",
        "print(\"Factorial of \", num, \" is \", factorial)"
      ],
      "metadata": {
        "colab": {
          "base_uri": "https://localhost:8080/"
        },
        "id": "D4arU7f2iNiB",
        "outputId": "36d9ba12-db3e-405a-aef3-3e2629933213"
      },
      "execution_count": null,
      "outputs": [
        {
          "output_type": "stream",
          "name": "stdout",
          "text": [
            "Enter a number: 12\n",
            "Factorial of  12  is  479001600\n"
          ]
        }
      ]
    },
    {
      "cell_type": "code",
      "source": [
        "# 6).Write a Python program to get the Fibonacci series of given range.\n",
        "\n",
        "num = int(input(\"Enter a number: \"))\n",
        "n1, n2 = 1, 5\n",
        "print(\"Fibonacci Series:\", n1, n2, end=\" \")\n",
        "for i in range(2, num):\n",
        "  n3 = n1 + n2\n",
        "  n1 = n2\n",
        "  n2 = n3\n",
        "  print(n3, end=\" \")"
      ],
      "metadata": {
        "colab": {
          "base_uri": "https://localhost:8080/"
        },
        "id": "abA3FGSEleGl",
        "outputId": "8b583352-32e4-4623-b8aa-cfe10dbc7e4b"
      },
      "execution_count": null,
      "outputs": [
        {
          "output_type": "stream",
          "name": "stdout",
          "text": [
            "Enter a number: 10\n",
            "Fibonacci Series: 1 5 6 11 17 28 45 73 118 191 "
          ]
        }
      ]
    },
    {
      "cell_type": "markdown",
      "source": [
        "7).How memory is managed in Python?\n",
        "\n",
        "Ans :- Python automatically manages memory, freeing up unused objects and optimizing storage, so you can focus on coding without worrying about memory details. It does this through dynamic allocation, garbage collection, and reference counting."
      ],
      "metadata": {
        "id": "kH4-PXiQpIjy"
      }
    },
    {
      "cell_type": "markdown",
      "source": [
        "8).What is the purpose continuing statement in python?\n",
        "\n",
        "The continue statement in Python is like saying, \"Skip this one and move on!\" When the program hits continue inside a loop, it jumps straight to the next iteration without finishing the current one. It's handy when you want to bypass certain steps based on a condition, like ignoring even numbers in a list and only processing the odd ones."
      ],
      "metadata": {
        "id": "Nn9441NipJdr"
      }
    },
    {
      "cell_type": "code",
      "source": [
        "# 9). Write python program that swap two number with temp variable and without temp variable.\n",
        "\n",
        "num1 = input('Enter First Number: ')\n",
        "num2 = input('Enter Second Number: ')\n",
        "\n",
        "def swapNumbers(num1,num2):\n",
        "  temp = num1\n",
        "  num1 = num2\n",
        "  num2 = temp\n",
        "  return num1,num2\n",
        "\n",
        "print('Before swapping: ',num1, num2)\n",
        "num1, num2 = swapNumbers(num1, num2)\n",
        "print('After swapping: ',num1,num2)"
      ],
      "metadata": {
        "colab": {
          "base_uri": "https://localhost:8080/"
        },
        "id": "sl9FfHF8pEV0",
        "outputId": "ebdb8995-3e94-490c-95b8-628a811427a8"
      },
      "execution_count": null,
      "outputs": [
        {
          "output_type": "stream",
          "name": "stdout",
          "text": [
            "Enter First Number: 15\n",
            "Enter Second Number: 89\n",
            "Before swapping:  15 89\n",
            "After swapping:  89 15\n"
          ]
        }
      ]
    },
    {
      "cell_type": "code",
      "source": [
        "# 10).Write a Python program to find whether a given number is even or odd, print out an appropriate message to the user.\n",
        "\n",
        "num = int(input(\"Enter a number: \"))\n",
        "if (num % 2) == 0:\n",
        "   print(num,\"is Even\")\n",
        "else:\n",
        "   print(num ,\"is Odd\")"
      ],
      "metadata": {
        "colab": {
          "base_uri": "https://localhost:8080/"
        },
        "id": "AMpglnX0q3rQ",
        "outputId": "d0e3251b-bdc7-4515-a67b-0926a67050b6"
      },
      "execution_count": null,
      "outputs": [
        {
          "output_type": "stream",
          "name": "stdout",
          "text": [
            "Enter a number: 22\n",
            "22 is Even\n"
          ]
        }
      ]
    },
    {
      "cell_type": "code",
      "source": [
        "# 11).Write a Python program to test whether a passed letter is a vowel or not.\n",
        "\n",
        "char = input(\"Enter a character: \")\n",
        "\n",
        "if char.lower() in ('a', 'e', 'i', 'o', 'u'):\n",
        "    print(char, \"is a vowel.\")\n",
        "else:\n",
        "    print(char, \"is not a vowel.\")\n"
      ],
      "metadata": {
        "colab": {
          "base_uri": "https://localhost:8080/"
        },
        "id": "7YSoWbwVq3dn",
        "outputId": "c0cf0e83-471a-4066-b108-0a412bda7d82"
      },
      "execution_count": null,
      "outputs": [
        {
          "output_type": "stream",
          "name": "stdout",
          "text": [
            "Enter a character: A\n",
            "A is a vowel.\n"
          ]
        }
      ]
    },
    {
      "cell_type": "code",
      "source": [
        "# 12).Write a Python program to sum of three given integers. However, if two values are equal sum will be zero.\n",
        "\n",
        "num1 = input('Enter First Number: ')\n",
        "num2 = input('Enter Second Number: ')\n",
        "num3 = input('Enter Third Number: ')\n"
      ],
      "metadata": {
        "id": "sphGz8VJuUvG"
      },
      "execution_count": null,
      "outputs": []
    }
  ]
}